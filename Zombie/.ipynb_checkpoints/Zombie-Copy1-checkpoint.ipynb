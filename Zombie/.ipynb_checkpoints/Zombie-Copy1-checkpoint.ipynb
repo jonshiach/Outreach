{
 "cells": [
  {
   "cell_type": "markdown",
   "metadata": {},
   "source": [
    "<img src=\"https://raw.githubusercontent.com/jonshiach/Outreach/main/Zombie/Images/MMU_logo.png\" width=150 align=\"right\"/>\n",
    "<img src=\"https://raw.githubusercontent.com/jonshiach/Outreach/main/Zombie/Images/python_logo.png\" width=\"150\" align=\"right\"/>\n",
    "\n",
    "\n",
    "# Modelling a Zombie Outbreak\n",
    "\n",
    "---\n",
    "<table align=\"center\">\n",
    "    <tr>\n",
    "        <td align=\"left\">\n",
    "            <span style=\"font-weight:normal\" align=\"left\">\n",
    "                <b>Dr Jon Shiach</b> <br><br>\n",
    "                Senior Lecturer <br>\n",
    "                Department of Computing and Mathematics<br>\n",
    "                Manchester Metropolitan University<br> \n",
    "                Email: <a href=\"mailto:j.shiach@mmu.ac.uk\">j.shiach@mmu.ac.uk</a>\n",
    "            </span>\n",
    "        </td>\n",
    "        <td>\n",
    "            <img width=\"100\" height=\"100\" src=\"https://raw.githubusercontent.com/jonshiach/Outreach/main/Zombie/Images/jon_shiach.jpeg\">\n",
    "        </td>\n",
    "    </tr>\n",
    "</table>\n",
    "\n",
    "---\n",
    "\n",
    "## Introduction\n",
    "\n",
    "[**Mathematical modelling**](https://en.wikipedia.org/wiki/Mathematical_model) is a description of a situation or scenario that is described using mathematical concepts. These models can be very useful as they can allow us to identify possible solutions without first implementing them in the real world. For example, NASA used mathematical models to predict the forces experienced by astronauts to see whether they could survive a trip into space. Here we are going to look at a type of mathematical model called an [**Agent Based Model**](https://en.wikipedia.org/wiki/Agent-based_model) which can be used to model the behaviour of a group of animals or people. Agent based models consist of a number of autonomous agents which are given a set of rules that govern the agents behaviour in the system. For example, an agent may represent a predator which is given a rule that it will chase the nearest prey. This Jupyter notebook will introduce you to agent based models and how can we write [**Python**](https://www.python.org/) programs to model complex behaviour. The programs are written for you but you can make changes to the parameters or even add to the programs if you wish.\n",
    "\n",
    "### Contents\n",
    "\n",
    "1. [Agent based modelling](#Agent-based-modelling)\n",
    "1. [Modelling flocking fehaviour](#Modelling-flocking-behaviour)\n",
    "1. [Modelling a zombie outbreak](#Modelling-a-zombie-outbreak)\n",
    "1. [Modelling the spread of Covid](#Modelling-the-spread-of-Covid)\n",
    "\n",
    "### Jupyter notebooks\n",
    "\n",
    "Jupyter notebooks are documents that combine text and Python code which allow readable documents such as this one to be created that contain executable code used to perform calculations. To run code in a notebook simply click on the code and then on the run button, or alternatively, press the **ctrl + enter** keys at the same time. Since we will be using commands to perform calculations and produce our models we need to import some commands to help us to do this. Run the code below to import the commands."
   ]
  },
  {
   "cell_type": "code",
   "execution_count": 1,
   "metadata": {},
   "outputs": [],
   "source": [
    "import numpy as np\n",
    "import matplotlib\n",
    "import matplotlib.pyplot as plt\n",
    "from matplotlib import animation, patches, collections\n",
    "from IPython.display import HTML\n",
    "from ipywidgets import IntProgress\n",
    "matplotlib.rcParams['animation.embed_limit'] = 2**128"
   ]
  },
  {
   "cell_type": "markdown",
   "metadata": {},
   "source": [
    "Now we can perform some calculations. The Python code below calculates the length of the hypotenuse of a right angled triangle using the lengths of the two smallest sides and prints the result. Note how the equation $c = \\sqrt{a^2 + b^2}$ is entered in a similar way to how we write it on a piece of paper. Can you calculate the length of the hypotenuse when $a = 5$ and $b = 12$"
   ]
  },
  {
   "cell_type": "code",
   "execution_count": 2,
   "metadata": {},
   "outputs": [
    {
     "name": "stdout",
     "output_type": "stream",
     "text": [
      "5.0\n"
     ]
    }
   ],
   "source": [
    "a = 3\n",
    "b = 4\n",
    "c = np.sqrt(a ** 2 + b ** 2)\n",
    "print(c)"
   ]
  },
  {
   "cell_type": "markdown",
   "metadata": {},
   "source": [
    "---\n",
    "## Agent based modelling\n",
    "\n",
    "<img src=\"https://raw.githubusercontent.com/jonshiach/Outreach/main/Zombie/Images/field.svg\" align=right width=350>\n",
    "\n",
    "An agent based model uses individual autonomous **agents** to which we can give **rules** that will govern their movement and behaviour. In the models we will use here the agents exist within a finite rectangular region of a given width and height. Each agent is described by its **position** within the region and **velocity**. The position is given by a set of co-ordinates $(x,y)$ where $x$ and $y$ are the horizontal and vertical distances from the bottom left-hand corner of the region. The velocity, which governs the direction the agent moves in, is given by the **velocity vector** (a vector is an arrow with a direction and length) which is represented by $(v_x,v_y)$ where $v_x$ and $v_y$ are the horizontal and vertical speeds of the agent. We can calculate the speed of an agent from the velocity vector using Pythagoras' theorem\n",
    "\n",
    "$$\\textsf{speed} = \\sqrt{ v_x ^2 + v_y ^ 2}.$$\n",
    "\n",
    "This is known as the **norm** of the velocity vector and is equivalent to the length of the vector. "
   ]
  },
  {
   "cell_type": "code",
   "execution_count": 3,
   "metadata": {},
   "outputs": [],
   "source": [
    "def norm(x, y):\n",
    "    return np.sqrt(x ** 2 + y ** 2)\n",
    "\n",
    "\n",
    "def limit(x, y, lower, upper):\n",
    "    length = norm(x, y)\n",
    "    if length < lower:\n",
    "        x = x / length * lower\n",
    "        y = y / length * lower\n",
    "    elif length > upper:\n",
    "        x = x / length * upper\n",
    "        y = y / length * upper\n",
    "        \n",
    "    return x, y"
   ]
  },
  {
   "cell_type": "markdown",
   "metadata": {},
   "source": [
    "To program an agent based model in Python we start by defining an agent object which contains all of the commands that are applied to an agent. The code below defines an agent and gives it a random position and velocity as well as some other attributes which are explained by the comments following the `#` symbol. The function `AgentList()` generates a list containing all of the agents in the model."
   ]
  },
  {
   "cell_type": "code",
   "execution_count": 4,
   "metadata": {},
   "outputs": [],
   "source": [
    "class agent:\n",
    "    def __init__(self):\n",
    "        self.x = 100 * np.random.rand()     # x co-ordinate\n",
    "        self.y = 100 * np.random.rand()     # y co-ordinate\n",
    "        self.u = np.random.uniform(-1, 1)   # velocity in the x direction\n",
    "        self.v = np.random.uniform(-1, 1)   # velocity in the y direction\n",
    "        self.sx = 0                         # steering force in the x direction\n",
    "        self.sy = 0                         # steering force in the y direction\n",
    "        self.minspeed = 5                   # minimum speed of the agent\n",
    "        self.maxspeed = 10                  # maximum speed of the agent\n",
    "        self.neighbours = []                # list of neighbouring agents\n",
    "        self.u, self.v = limit(self.u, self.v, self.maxspeed, self.maxspeed)"
   ]
  },
  {
   "cell_type": "markdown",
   "metadata": {},
   "source": [
    "### Movement\n",
    "\n",
    "To model the movement of agents we divide the time which we are simulating into lots of individual **time steps**. If we know the position and velocity of an agent at one time step we can calculate the position at the next time step using\n",
    "\n",
    "$$\\textsf{new position} = \\textsf{current position} + \\textsf{velocity vector} \\times \\textsf{time step}.$$\n",
    "\n",
    "This is shown in the diagram below where $\\mathbf{p}_1$ is the current position of the agent and $\\mathbf{p}_2$ and $\\mathbf{p}_3$ are the positions in the next two time steps.\n",
    "\n",
    "<img src=\"https://raw.githubusercontent.com/jonshiach/Outreach/main/Zombie/Images/movement.svg\" align=center width=300>\n",
    "\n",
    "In the diagram above we see that the velocity vector does not change so this agent will continue to move along that same path forever. The velocity vector will change if there is some external force applied to the agent, for example, an agent may be attracted towards a particular target. The change in the velocity is known as **acceleration** which will be determined by any rules that we impose on our agents. \n",
    "\n",
    "In order to ensure that our agents do not exceed the maximum speed we have chosen for the agent, if the speed calculated using the norm of the velocity vector is greater than the maximum speed then we scale the velocity vector using\n",
    "\n",
    "$$\\textsf{velocity vector} = \\textsf{velocity vector} \\times \\frac{\\textsf{maximum speed}}{\\textsf{speed}}.$$\n",
    "\n",
    "We also do similar for ensuring the agent doesn't travel slower than its minimum speed.\n",
    "\n",
    "The code below defines a function called `MoveAgent()` which calculates the position of the agent after one time step. The velocities in the $x$ and $y$ directions are scaled to ensure that the speed of the agent remains within the minimum and maximum speeds for the agent. The velocities are then multiplied by the time step and added to the agent position, `self.x` and `self.y`, to give the new position. "
   ]
  },
  {
   "cell_type": "code",
   "execution_count": 5,
   "metadata": {},
   "outputs": [],
   "source": [
    "class agent(agent): \n",
    "    def move(self):\n",
    "        self.u += self.sx\n",
    "        self.v += self.sy\n",
    "        self.u, self.v = limit(self.u, self.v, self.minspeed, self.maxspeed)\n",
    "        self.x += self.u * dt\n",
    "        self.y += self.v * dt\n",
    "        self.sx = self.sy = 0"
   ]
  },
  {
   "cell_type": "markdown",
   "metadata": {},
   "source": [
    "### Steering\n",
    "\n",
    "In an agent based model we have a set of rules that we apply to the agents. The **steering rules** that affect the movement of an agent will each generate a steering vector that are added together to give an **acceleration vector**\n",
    "\n",
    "$$\\textsf{acceleration vector} = \\textsf{steering vector 1} + \\textsf{steering vector 2} + \\textsf{steering vector 3}$$\n",
    "\n",
    "<img src=\"https://raw.githubusercontent.com/jonshiach/Outreach/main/Zombie/Images/steering1.svg\" align=\"center\" />\n",
    "\n",
    "An example of a rule imposed on an agent may be that it will travel towards a particular target as shown in the diagram below. The steering vector pointing in the direction of the target is calculated using \n",
    "\n",
    "$$\\textsf{steering vector} = \\textsf{target} - \\textsf{position}.$$\n",
    "\n",
    "<img src=\"https://raw.githubusercontent.com/jonshiach/Outreach/main/Zombie/Images/steering2.svg\" align=\"center\" />\n",
    "\n",
    "Since we may be combining several steering rules we may wish to prioritise some over the others. We can do this by multiplying the steering vector by a **steering factor** which is a number that we choose the value of in order to replicate the behaviour we want..\n",
    "\n",
    "$$\\textsf{acceleration vector} = \\textsf{steering vector} \\times \\textsf{steering factor}.$$\n",
    "\n",
    "<img src=\"https://raw.githubusercontent.com/jonshiach/Outreach/main/Zombie/Images/steering3.svg\" align=\"center\" />\n",
    "\n",
    "The diagram below shows how an agent will move towards a target over several time steps. Note that since the acceleration vector is limited by the steering factor the agents does immediately turn in the direction of the target, rather it gradually turns over a number of time steps. \n",
    "\n",
    "<img src=\"https://raw.githubusercontent.com/jonshiach/Outreach/main/Zombie/Images/steering4.svg\" width=350>"
   ]
  },
  {
   "cell_type": "markdown",
   "metadata": {},
   "source": [
    "### Keeping the agents within the region\n",
    "\n",
    "We must ensure that an agent does not pass through the edges of the region and escape. This is shown in the diagram below where the agent is approaching the bottom edge and if no external for is applied it would pass through the edge and out of the region.\n",
    "\n",
    "<img src=\"https://raw.githubusercontent.com/jonshiach/Outreach/main/Zombie/Images/edges.svg\" align=center width=400>\n",
    "\n",
    "To ensure agents remain in the region we apply a steering force if an agent gets too close to an edge which forces it to move away from the edge. A buffer zone is defined that contains the region within some distance of the edge, if an agent is in the buffer zone then a steering force is applied calculated using\n",
    "\n",
    "\\begin{align*}\n",
    "    \\textsf{steering vector} &= \\frac{\\textsf{direction vector}}{\\textsf{distance from edge}^\\textsf{2}},\n",
    "\\end{align*}\n",
    "\n",
    "where the direction vector is a vector that points towards the interior of the region. By dividing the direction vector by the square of the distance from the edge the steering force is gentle when the agent is further away from the edge but progressively stronger as the distance from the decreases. This means that the agent will gradually turn away from the edge.\n",
    "\n",
    "The code below defines the function `AvoidEdges()` which applies this rule for all four edges of the region defined the by the minimum and maximum $x$ and $y$ co-ordinates and a buffer zone defined by the area within a distance of 5 from an edge. "
   ]
  },
  {
   "cell_type": "code",
   "execution_count": 6,
   "metadata": {},
   "outputs": [],
   "source": [
    "class agent(agent):\n",
    "    def avoid_edges(self):\n",
    "        steer_x, steer_y = 0, 0\n",
    "        buffer = 5\n",
    "        if self.x <= buffer:\n",
    "            self.sx += buffer / self.x\n",
    "        if self.x >= 100 - buffer:\n",
    "            self.sx -= buffer / (100 - self.x)\n",
    "        if self.y <= buffer:\n",
    "            self.sy += buffer / self.y\n",
    "        if self.y >= 100 - buffer:\n",
    "            self.sy -= buffer / (100 - self.y)"
   ]
  },
  {
   "cell_type": "markdown",
   "metadata": {},
   "source": [
    "### Neighbouring agents\n",
    "\n",
    "<img src=\"https://raw.githubusercontent.com/jonshiach/Outreach/main/Zombie/Images/neighbourhood.svg\" align=right width=300>\n",
    "\n",
    "We want our agents to react to other agents which are the vicinity, for example, if we have an agent that represents a predator it will want to chase after any prey agent and a prey agent will want to flee away from a predator. In order to do this we need to determine which of the other agents can be detected by our agent. The simplest way to do this is to define a **detection zone** that is a circle surround our agent and all other agents that are within this circle are considered to have been detected by our agent. This could represent a predator using their senses of vision and smell to hunt for their prey. Agents that are within the detection zone are known as **neighbouring agents** because that are the agents that are nearest to our agent.\n",
    "\n",
    "The code below defines the function `Neighbours()` which loops through all of the other agents in the model and calculates the squared distance to a current agent. If this distance is less than the square of the detection radius then it is added to a list of neighbours. The reason why the square of the distance is used is to avoid having to calculate a square root which is slower for a computer to calculate. "
   ]
  },
  {
   "cell_type": "code",
   "execution_count": 7,
   "metadata": {},
   "outputs": [],
   "source": [
    "class agent(agent):\n",
    "    def find_neighbours(self, boidList):\n",
    "        self.neighbours = []\n",
    "        for neighbour in boidList: \n",
    "            if id(self) == id(neighbour):\n",
    "                continue\n",
    "            \n",
    "            d = norm(self.x - neighbour.x, self.y - neighbour.y)\n",
    "            if d < detection_radius:\n",
    "                self.neighbours.append(neighbour)"
   ]
  },
  {
   "cell_type": "markdown",
   "metadata": {},
   "source": [
    "--- \n",
    "## Modelling flocking behaviour\n",
    "\n",
    "The first model we are going to look at is the modelling of flocking behaviour that can be seen in shoals of fish. Each individual fish in the group reacts to the other fish that surround it and adjusts its movement accordingly. The model [**Boids**](https://en.wikipedia.org/wiki/Boids) which was developed by Craig Reynolds uses three simple rules that are applied to the agents in the model to simulate flocking behaviour, these rules are:\n",
    "\n",
    "- **Alignment**: an agent will steer in the direction of the average velocity vector for the other agents in the neighbourhood.\n",
    "- **Cohesion**: an agent will steer towards the average position of the other agents in the neighbourhood.\n",
    "- **Separation**: an agent will steer away from any agent that is too close to the agent.\n",
    "\n",
    "The acceleration forces for all three of these rules is calculated and added to the acceleration vector for an agent.\n",
    "\n",
    "### Alignment\n",
    "\n",
    "<img src=\"https://raw.githubusercontent.com/jonshiach/Outreach/main/Zombie/Images/alignment.svg\" align=right width=250>\n",
    "\n",
    "The alignment rule states that an agent will align itself to the average velocity vector of its neighbouring agents. The average velocity is calculated using\n",
    "\n",
    "$$\\textsf{average velocity} = \\frac{\\displaystyle\\sum \\textsf{velocity of neighbour}}{\\textsf{number of neighbours}}.$$\n",
    "\n",
    "The symbol $\\sum$ is the Greek character *sigma* which is equivalent to the Latin character *s* and is used to denote the sum of a group of numbers. The equation above says that we add up all of the velocity vectors of the neighbouring agents and divide by the number of neighbours to get the average velocity. The steering vector for aligning to the neighbouring agents is then calculated by subtracting the agent velocity from the average velocity of the neighbourng agents and multiplying by the alignment factor\n",
    "\n",
    "\\begin{align*}\n",
    "    \\textsf{alignment vector} &= (\\textsf{average velocity} - \\textsf{agent velocity}) \\times \\textsf{alignment factor}.\n",
    "\\end{align*}\n",
    " \n",
    "The code below defines the function `Alignment()` applies the alignment rule to the current agent."
   ]
  },
  {
   "cell_type": "code",
   "execution_count": 8,
   "metadata": {},
   "outputs": [],
   "source": [
    "class agent(agent): \n",
    "    def alignment(self):\n",
    "        n, avg_vx, avg_vy = 0, 0, 0\n",
    "        for neighbour in self.neighbours:\n",
    "            avg_vx += neighbour.u\n",
    "            avg_vy += neighbour.v\n",
    "            n += 1\n",
    "            \n",
    "        if n > 0:\n",
    "            steer_x = avg_vx / n - self.u\n",
    "            steer_y = avg_vy / n - self.v\n",
    "            steer_x, steer_y = limit(steer_x, steer_y, 0, 0.2)\n",
    "            self.sx += steer_x\n",
    "            self.sy += steer_y"
   ]
  },
  {
   "cell_type": "markdown",
   "metadata": {},
   "source": [
    "### Cohesion\n",
    "\n",
    "<img src=\"https://raw.githubusercontent.com/jonshiach/Outreach/main/Zombie/Images/cohesion.svg\" align=right width=300>\n",
    "\n",
    "The cohesion rule states that an agent will steer towards the average position of it's neighbouring agents. The average position is calculated using\n",
    "\n",
    "$$\\textsf{average position of neighbours} = \\frac{\\displaystyle\\sum \\textsf{position of neighbour}}{\\textsf{number of neighbours}}.$$\n",
    "\n",
    "The steering vector is then calculated by subtracting the agent position from the average position of the neigbouring agents and multiplying by the cohesion factor.\n",
    "\n",
    "\\begin{align*}\n",
    "    \\textsf{cohesion vector} &= (\\textsf{average position of neighbours} - \\textsf{agent position}) \\times \\textsf{cohesion factor}.\n",
    "\\end{align*}\n",
    "\n",
    "The code below defines the function `Cohesion()` applied the cohesion rule to the current agent."
   ]
  },
  {
   "cell_type": "code",
   "execution_count": 9,
   "metadata": {},
   "outputs": [],
   "source": [
    "class agent(agent):\n",
    "    def cohesion(self):\n",
    "        n, avg_x, avg_y = 0, 0, 0\n",
    "        for neighbour in self.neighbours:\n",
    "            avg_x += neighbour.x\n",
    "            avg_y += neighbour.y\n",
    "            n += 1\n",
    "            \n",
    "        if n > 0:\n",
    "            steer_x = avg_x / n - self.x\n",
    "            steer_y = avg_y / n - self.y\n",
    "            steer_x, steer_y = limit(steer_x, steer_y, 0, 0.1)\n",
    "            self.sx += steer_x\n",
    "            self.sy += steer_y"
   ]
  },
  {
   "cell_type": "markdown",
   "metadata": {},
   "source": [
    "### Separation\n",
    "\n",
    "<img src=\"https://raw.githubusercontent.com/jonshiach/Outreach/main/Zombie/Images/separation.svg\" align=right width=250>\n",
    "\n",
    "The separation rule states that an agent will steer away from agents that are within some small distance of it. For those neighbouring agents that are too close we calculate the steering vector using\n",
    "\n",
    "\\begin{align*}\n",
    "    \\textsf{separation vector} &= \\sum \\dfrac{\\textsf{position of agent} - \\textsf{position of neighbour}}{\\textsf{squared distance to neighbour}} \\times \\textsf{separation factor}.\n",
    "\\end{align*}\n",
    "\n",
    "By dividing the vector that points away from the neighbouring agent by the squared distance we scale the separation vector so that the closer a neighbour is, the stronger the seperation force from that neighbour. \n",
    "\n",
    "The code below defines a function called `Separation()` applies the separation rule for the current agent."
   ]
  },
  {
   "cell_type": "code",
   "execution_count": 10,
   "metadata": {},
   "outputs": [],
   "source": [
    "class agent(agent):     \n",
    "    def separation(self):\n",
    "        steer_x, steer_y = 0, 0\n",
    "        for neighbour in self.neighbours:\n",
    "            d = norm(self.x - neighbour.x, self.y - neighbour.y)\n",
    "            if d < separation_radius ** 2:\n",
    "                steer_x += (self.x - neighbour.x) / d\n",
    "                steer_y += (self.y - neighbour.y) / d\n",
    "                \n",
    "        steer_x, steer_y = limit(steer_x, steer_y, 0, 0.3)\n",
    "        self.sx += steer_x\n",
    "        self.sy += steer_y"
   ]
  },
  {
   "cell_type": "markdown",
   "metadata": {},
   "source": [
    "### Applying the agent rules\n",
    "\n",
    "The code below defines the function `Rules()` which combines the `AvoidEdges()`, `Alignment()`, `Cohesion()`, and `Separation()` rules for the Boids model defined above."
   ]
  },
  {
   "cell_type": "code",
   "execution_count": 11,
   "metadata": {},
   "outputs": [],
   "source": [
    "class agent(agent):\n",
    "    def steer(self):\n",
    "        self.alignment()\n",
    "        self.cohesion()\n",
    "        self.separation()\n",
    "        self.sx, self.sy = limit(self.sx, self.sy, 0, 0.5)\n",
    "        self.avoid_edges()"
   ]
  },
  {
   "cell_type": "markdown",
   "metadata": {},
   "source": [
    "### Stepping through time\n",
    "\n",
    "Now that we have defined the rules for our model we now need to apply these rules for each time step. For each time step we first calculate the rules for each agent in the model and then calculate the new positions of each agent using the acceleration vector that has been calculated when we applied the rules. \n",
    "\n",
    "The function `Simulation()` defined initialises the positions and velocities of the agents in the model and applies the model through time. "
   ]
  },
  {
   "cell_type": "code",
   "execution_count": 12,
   "metadata": {},
   "outputs": [],
   "source": [
    "def Simulation(agent):\n",
    "    \n",
    "    def update(n):\n",
    "        \n",
    "        # Calculate the steering forces for each agent\n",
    "        for agent in agentList:\n",
    "            agent.find_neighbours(agentList)\n",
    "            agent.steer()\n",
    "\n",
    "        # move and plot each boid\n",
    "        patches = []\n",
    "        for agent in agentList:\n",
    "            agent.move()  \n",
    "\n",
    "            # Plot agent as an isocelese triangle\n",
    "            angle = np.arctan2(agent.v, agent.u)\n",
    "            cos, sin = np.cos(angle), np.sin(angle)\n",
    "            verts = np.array([[-1, -1, 1], [2, 0, 1], [-1, 1, 1]])\n",
    "            T = np.array([[1, 0, 0], [0, 1, 0], [agent.x, agent.y, 1]])\n",
    "            R = np.array([[cos, sin, 0],[-sin, cos, 0], [0, 0, 1]])\n",
    "            S = np.array([[0.6, 0, 0], [0, 0.6, 0], [0, 0, 1]])\n",
    "            verts = np.linalg.multi_dot([verts, S, R, T])\n",
    "            patches.append(plt.Polygon(verts[:,:2]))\n",
    "\n",
    "        collection.set_paths(patches)\n",
    "        progress_bar.value += 1\n",
    "\n",
    "        return collection,\n",
    "    \n",
    "    \n",
    "    # Generate agent list\n",
    "    np.random.seed(0)\n",
    "    agentList = [agent() for _ in range(nagents)]\n",
    "\n",
    "    # Setup plot\n",
    "    fig, ax = plt.subplots(figsize=(10, 10))\n",
    "    plt.axis([0, 100, 0, 100])\n",
    "    collection = collections.PatchCollection([plt.Polygon(np.zeros((3,2))) for _ in range(nagents)])\n",
    "    ax.add_collection(collection)\n",
    "    progress_bar = IntProgress(min=0, max=int(fps * tmax), description=\"Simulation\")\n",
    "    display(progress_bar)\n",
    "\n",
    "    # Create animation \n",
    "    anim = animation.FuncAnimation(fig, update, frames=int(tmax * fps), blit=True)\n",
    "    plt.close()\n",
    "    \n",
    "    return anim"
   ]
  },
  {
   "cell_type": "markdown",
   "metadata": {},
   "source": [
    "### Running the model\n",
    "\n",
    "The following code defines the various parameters that define the model before running the model and generating the animation. Try experimenting with the model by changing these parameters and then clicking on the 'Run' button. "
   ]
  },
  {
   "cell_type": "code",
   "execution_count": 13,
   "metadata": {},
   "outputs": [
    {
     "data": {
      "application/vnd.jupyter.widget-view+json": {
       "model_id": "9fd981a534404fe3b45cf357f39211d7",
       "version_major": 2,
       "version_minor": 0
      },
      "text/plain": [
       "IntProgress(value=0, description='Simulation', max=300)"
      ]
     },
     "metadata": {},
     "output_type": "display_data"
    },
    {
     "name": "stdout",
     "output_type": "stream",
     "text": [
      "22.20849108695984\n"
     ]
    }
   ],
   "source": [
    "# Model parameters\n",
    "nagents = 50               # number of boids\n",
    "tmax = 10                  # max time for the simulation\n",
    "fps = 30                   # frames per second for the animation\n",
    "dt = 1 / fps               # seconds elapsed during 1 frame of the animation\n",
    "width, height = 100, 100   # dimensions of the region\n",
    "detection_radius = 5       # radius for detecting neighbouring agents\n",
    "separation_radius = 1      # radius for separating agents\n",
    "\n",
    "# Run simulation\n",
    "anim = Simulation(agent)\n",
    "HTML(anim.to_jshtml(fps=fps))"
   ]
  },
  {
   "cell_type": "markdown",
   "metadata": {},
   "source": [
    "---\n",
    "## Modelling a zombie outbreak\n",
    "\n",
    "<img src=\"https://raw.githubusercontent.com/jonshiach/Outreach/main/Zombie/Images/zombie.png\" align=right width=150>\n",
    "\n",
    "We have seen with the Boids model that we can use Agent Based Modelling to model a population of animals that exhibit flocking behaviour. We can adapt this model to model the behaviour of human populations. Here we are going to model the (unlikely) event of a zombie outbreak. Zombies have become a popular monster in movies, TV series and computer games such as *Night of the Living Dead*, *The Walking Dead* and *The Last of Us*.\n",
    "\n",
    "Interpretations of the zombie monster differs so here we will consider a zombie as an reanimated corpse that attempts to feed on humans. If a human is caught and bitten by a zombie they will die and the zombie will feed on the corpse. After a certain amount of time the zombie will cease feeding on the corpse and start looking for another victim and the corpse will eventually reanimate and become a zombie.\n",
    "\n",
    "To adapt the Boids model we will assign a status to our agents. Initially this is `human` for most of the agents with a small number of agents being given the status `zombie`. As the model steps through time the status of a human agent could change to `corpse` if it has been caught by a zombie and the status of a zombie agent could change to `feeding` as it feeds on a corpse.\n",
    "\n",
    "The code below defines functions to initialise the agents and set the status of the agents. This *inherits* from the Boid model defined earlier which means we borrow from the code already written above."
   ]
  },
  {
   "cell_type": "code",
   "execution_count": 14,
   "metadata": {},
   "outputs": [
    {
     "ename": "AttributeError",
     "evalue": "type object 'agent' has no attribute 'data'",
     "output_type": "error",
     "traceback": [
      "\u001b[0;31m---------------------------------------------------------------------------\u001b[0m",
      "\u001b[0;31mAttributeError\u001b[0m                            Traceback (most recent call last)",
      "\u001b[0;32m/var/folders/rn/rs75_yx15gz4747nxd6xzq212q34wn/T/ipykernel_13432/2192869918.py\u001b[0m in \u001b[0;36m<module>\u001b[0;34m\u001b[0m\n\u001b[0;32m----> 1\u001b[0;31m \u001b[0;32mclass\u001b[0m \u001b[0mzombie\u001b[0m\u001b[0;34m(\u001b[0m\u001b[0magent\u001b[0m\u001b[0;34m)\u001b[0m\u001b[0;34m:\u001b[0m\u001b[0;34m\u001b[0m\u001b[0;34m\u001b[0m\u001b[0m\n\u001b[0m\u001b[1;32m      2\u001b[0m     \u001b[0;32mdef\u001b[0m \u001b[0m__init__\u001b[0m\u001b[0;34m(\u001b[0m\u001b[0mself\u001b[0m\u001b[0;34m)\u001b[0m\u001b[0;34m:\u001b[0m\u001b[0;34m\u001b[0m\u001b[0;34m\u001b[0m\u001b[0m\n\u001b[1;32m      3\u001b[0m         \u001b[0msuper\u001b[0m\u001b[0;34m(\u001b[0m\u001b[0;34m)\u001b[0m\u001b[0;34m.\u001b[0m\u001b[0m__init__\u001b[0m\u001b[0;34m(\u001b[0m\u001b[0;34m)\u001b[0m\u001b[0;34m\u001b[0m\u001b[0;34m\u001b[0m\u001b[0m\n\u001b[1;32m      4\u001b[0m         \u001b[0mself\u001b[0m\u001b[0;34m.\u001b[0m\u001b[0mstatus\u001b[0m \u001b[0;34m=\u001b[0m \u001b[0;34m\"human\"\u001b[0m\u001b[0;34m\u001b[0m\u001b[0;34m\u001b[0m\u001b[0m\n\u001b[1;32m      5\u001b[0m         \u001b[0mself\u001b[0m\u001b[0;34m.\u001b[0m\u001b[0mminspeed\u001b[0m \u001b[0;34m=\u001b[0m \u001b[0;36m0\u001b[0m\u001b[0;34m\u001b[0m\u001b[0;34m\u001b[0m\u001b[0m\n",
      "\u001b[0;32m/var/folders/rn/rs75_yx15gz4747nxd6xzq212q34wn/T/ipykernel_13432/2192869918.py\u001b[0m in \u001b[0;36mzombie\u001b[0;34m()\u001b[0m\n\u001b[1;32m     15\u001b[0m         \u001b[0;32mreturn\u001b[0m \u001b[0mzombies\u001b[0m\u001b[0;34m\u001b[0m\u001b[0;34m\u001b[0m\u001b[0m\n\u001b[1;32m     16\u001b[0m \u001b[0;34m\u001b[0m\u001b[0m\n\u001b[0;32m---> 17\u001b[0;31m     \u001b[0;32mclass\u001b[0m \u001b[0mdata\u001b[0m\u001b[0;34m(\u001b[0m\u001b[0magent\u001b[0m\u001b[0;34m.\u001b[0m\u001b[0mdata\u001b[0m\u001b[0;34m)\u001b[0m\u001b[0;34m:\u001b[0m\u001b[0;34m\u001b[0m\u001b[0;34m\u001b[0m\u001b[0m\n\u001b[0m\u001b[1;32m     18\u001b[0m         \u001b[0;32mdef\u001b[0m \u001b[0m__init__\u001b[0m\u001b[0;34m(\u001b[0m\u001b[0mself\u001b[0m\u001b[0;34m,\u001b[0m\u001b[0magentlist\u001b[0m\u001b[0;34m)\u001b[0m\u001b[0;34m:\u001b[0m\u001b[0;34m\u001b[0m\u001b[0;34m\u001b[0m\u001b[0m\n\u001b[1;32m     19\u001b[0m             \u001b[0msuper\u001b[0m\u001b[0;34m(\u001b[0m\u001b[0;34m)\u001b[0m\u001b[0;34m.\u001b[0m\u001b[0m__init__\u001b[0m\u001b[0;34m(\u001b[0m\u001b[0magentlist\u001b[0m\u001b[0;34m)\u001b[0m\u001b[0;34m\u001b[0m\u001b[0;34m\u001b[0m\u001b[0m\n",
      "\u001b[0;31mAttributeError\u001b[0m: type object 'agent' has no attribute 'data'"
     ]
    }
   ],
   "source": [
    "class zombie(agent):\n",
    "    def __init__(self):\n",
    "        super().__init__()\n",
    "        self.status = \"human\"\n",
    "        self.minspeed = 0\n",
    "        self.maxspeed = human_speed\n",
    "        self.timer = -1\n",
    "        \n",
    "    def AgentList():\n",
    "        zombies = [zombie() for _ in range(nagents)]\n",
    "        for i in range(nzombies):\n",
    "            zombies[i].status = \"zombie\"\n",
    "            zombies[i].maxspeed = zombie_speed\n",
    "            zombies[i].colour = \"limegreen\"\n",
    "        return zombies\n",
    "\n",
    "    class data(agent.data):\n",
    "        def __init__(self,agentlist):\n",
    "            super().__init__(agentlist)\n",
    "        \n",
    "        def InitialisePopulation(self, agentlist):\n",
    "            self.agenttypes = ['human', 'zombie', 'feeding', 'corpse']\n",
    "            self.agentcolours = ['blue', 'limegreen', 'black', 'red']\n",
    "            self.population = np.array([[nagents - nzombies, nzombies, 0, 0]])"
   ]
  },
  {
   "cell_type": "markdown",
   "metadata": {},
   "source": [
    "### Random path\n",
    "\n",
    "<img src=\"https://raw.githubusercontent.com/jonshiach/Outreach/main/Zombie/Images/randomwalk.svg\" width=300 align=\"right\">\n",
    "\n",
    "In the absence of any rules that affect the steering forwards for the agents the agent will just move in a straight line. We don't necessary want this for the zombie model where zombies will wander around so we can make them move along a random path. At each time step, a target is placed at a random position in front of the agent which will cause it to steer towards the target. This is done by calculating the angle that the agent is moving towards relative to a horizontal line and then adding a random angle between $-\\pi/2$ and $\\pi/2$ ($\\pi/2$ is equivalent to 90$^\\circ$). Using sine and cosine functions we can then calculate the target position.\n",
    "\n",
    "The function called `RandomPath()` defined below alters the agents acceleration vector so that it will move along a random path."
   ]
  },
  {
   "cell_type": "code",
   "execution_count": null,
   "metadata": {},
   "outputs": [],
   "source": [
    "class zombie(zombie):\n",
    "    def RandomPath(self):\n",
    "        agent_angle = np.arctan2(self.vy, self.vx)\n",
    "        target_angle = agent_angle + 0.5 * np.pi * np.random.uniform(-1, 1)\n",
    "        self.vx += np.cos(target_angle)\n",
    "        self.vy += np.sin(target_angle)"
   ]
  },
  {
   "cell_type": "markdown",
   "metadata": {},
   "source": [
    "### Humans evading zombies\n",
    "\n",
    "<img src=\"https://raw.githubusercontent.com/jonshiach/Outreach/main/Zombie/Images/evade_zombies.png\" width=250 align=\"right\">\n",
    "\n",
    "Of course a human agent will want to avoid being eaten by a zombie so we will give the humans a rule that if they detect a zombie, or multiple zombies, they will try to run away in the opposite direction. The code below defines a function called `Evade()` which checks if the agent status is `human` and if so calculates the acceleration force for evading any neighbouring zombie agents. This is similar to the [`Separation()`](#Separation) function used in the Boids model. The function also decreases the speed of the human agent by multiplying the velocities by 0.999 if no zombies are detected since humans will not be able to sprint indefinitely. "
   ]
  },
  {
   "cell_type": "code",
   "execution_count": null,
   "metadata": {},
   "outputs": [],
   "source": [
    "class zombie(zombie):\n",
    "    def Evade(self):\n",
    "        self.vx *= 0.999\n",
    "        self.vy *= 0.999\n",
    "        for neighbour in self.neighbours:\n",
    "            if neighbour.status == \"zombie\":\n",
    "                squared_distance = (self.x - neighbour.x) ** 2 + (self.y - neighbour.y) ** 2\n",
    "                self.vx += (self.x - neighbour.x) / squared_distance * evade_factor\n",
    "                self.vy += (self.y - neighbour.y) / squared_distance * evade_factor"
   ]
  },
  {
   "cell_type": "markdown",
   "metadata": {},
   "source": [
    "### Zombie chasing humans\n",
    "\n",
    "<img src=\"https://raw.githubusercontent.com/jonshiach/Outreach/main/Zombie/Images/running zombie.png\" width=150 align=\"left\">\n",
    "\n",
    "The zombie agents will look for any nearby human agents and chase the nearest one. The code for doing this is shown in the function `Chase()` below. After checking whether the current agent is a zombie, it searches for the nearest human agent and calculates the acceleration forces that steers the zombie towards the human. If the distance between the zombie and human agents is less than 1 the human has considered to be caught by the zombie so the zombie agents is changed to a feeding zombie and the human agent is changed to a corpse. Both agents are given a timer which determines the duration before they are changed to a zombie agent. The `move` switch for both feeding zombies and corpse agents is set to `False` so that they do not move as the zombie is feeding on the corpse. "
   ]
  },
  {
   "cell_type": "code",
   "execution_count": null,
   "metadata": {},
   "outputs": [],
   "source": [
    "class zombie(zombie):   \n",
    "    def Chase(self):\n",
    "        chase_x, chase_y, min_squared_distance = 0, 0, (width * height) ** 2\n",
    "        for neighbour in self.neighbours:\n",
    "            if neighbour.status == \"human\":\n",
    "                squared_distance = (self.x - neighbour.x) ** 2 + (self.y - neighbour.y) ** 2\n",
    "                if squared_distance < 1:\n",
    "                    self.status = \"feeding\"\n",
    "                    self.timer = feeding_time\n",
    "                    self.move = False\n",
    "                    neighbour.status = \"corpse\"\n",
    "                    neighbour.colour = \"red\"\n",
    "                    neighbour.timer = reanimation_time\n",
    "                    neighbour.move = False\n",
    "                    return\n",
    "                elif squared_distance < min_squared_distance:\n",
    "                    chase_x = neighbour.x - self.x\n",
    "                    chase_y = neighbour.y - self.y\n",
    "                    min_squared_distance = squared_distance\n",
    "        self.vx += chase_x * chase_factor\n",
    "        self.vy += chase_y * chase_factor"
   ]
  },
  {
   "cell_type": "markdown",
   "metadata": {},
   "source": [
    "### Reanimating corpses\n",
    "\n",
    "Feeding zombie and corpse agents have been assigned a timer variable when their statuses was changed in the `Chase()` function. This is to model the time taken for a feeding zombie to feed on a corpse and a corpse to reanimate into a zombie. The function `Reanimate()` defined below subtracts the time step from the timer and, if the time has reached zero, changes the agent to a zombie agent.  "
   ]
  },
  {
   "cell_type": "code",
   "execution_count": null,
   "metadata": {},
   "outputs": [],
   "source": [
    "class zombie(zombie):   \n",
    "    def Reanimate(self):\n",
    "        self.timer -= time_step\n",
    "        if self.timer < 0:\n",
    "            self.status = \"zombie\"\n",
    "            self.maxspeed = zombie_speed\n",
    "            self.colour = \"limegreen\"\n",
    "            self.move = True"
   ]
  },
  {
   "cell_type": "markdown",
   "metadata": {},
   "source": [
    "### Applying the agent rules\n",
    "\n",
    "The `Rules()` function defined below combines the `Evade()`, `RandomPath()`, `Chase()` and `Reanimate()` rules as well as [`Separation()`](#Separation) and [`AvoidEdges()`](#Keeping-the-agents-within-the-field) from the [Boids](#Modelling-Flocking-Behaviour) model (we want our human agents to avoid inhabiting the same space and all agents to stay within the region)."
   ]
  },
  {
   "cell_type": "code",
   "execution_count": null,
   "metadata": {},
   "outputs": [],
   "source": [
    "class zombie(zombie):\n",
    "    def Rules(self):\n",
    "        self.AvoidEdges()\n",
    "        if self.status == \"human\":\n",
    "            self.Separation()\n",
    "            self.Evade()\n",
    "        if self.status == \"zombie\":\n",
    "            self.RandomPath()\n",
    "            self.Chase()\n",
    "        if self.status == \"corpse\" or self.status == \"feeding\":\n",
    "            self.Reanimate()"
   ]
  },
  {
   "cell_type": "markdown",
   "metadata": {},
   "source": [
    "### Running the model\n",
    "\n",
    "The code below defines the model parameters and runs the model. Here the human agents have been given a maximum speed of 5 whereas the zombie agents have a maximum speed of 3 since common representations of zombies show them as slow lumbering creatures. The zombie creatures in the film *28 Days Later* and the computer game *The Last of Us* (not strictly speaking zombies but they behave in a similar way) move as fast as humans which can easily be modelled by changing the speed parameters. Try experimenting with different parameters to see what affects this has on the model. "
   ]
  },
  {
   "cell_type": "code",
   "execution_count": null,
   "metadata": {},
   "outputs": [],
   "source": [
    "# Model parameters\n",
    "nagents = 50               # number of agents\n",
    "nzombies = 5               # initial number of zombies\n",
    "max_time = 50              # max time for the simulation\n",
    "detection_radius = 10      # radius for detecting neighbouring agents\n",
    "separation_radius = 1      # radius for avoiding neighbouring agents\n",
    "chase_factor = 2           # chase steering factor\n",
    "evade_factor = 2           # evade steering factor\n",
    "human_speed = 8            # maximum speed of a human\n",
    "zombie_speed = 5           # maximum speed of a zombie\n",
    "feeding_time = 2           # time taken for a zombie to feed on a corpse\n",
    "reanimation_time = 4       # time taken for a corpse to reanimate as a zombie\n",
    "\n",
    "# Run simulation\n",
    "solution = Simulation(zombie)\n",
    "\n",
    "# Generate animation\n",
    "anim = solution.Animation()\n",
    "plt.close()\n",
    "HTML(anim.to_jshtml(fps=20))"
   ]
  },
  {
   "cell_type": "markdown",
   "metadata": {},
   "source": [
    "### Plotting the populations\n",
    "\n",
    "The code below plots the populations of each type of agent against time."
   ]
  },
  {
   "cell_type": "code",
   "execution_count": null,
   "metadata": {},
   "outputs": [],
   "source": [
    "solution.PlotPopulation()"
   ]
  },
  {
   "cell_type": "markdown",
   "metadata": {},
   "source": [
    "--- \n",
    "## Modelling the spread of Covid\n",
    "\n",
    "<img src=\"https://raw.githubusercontent.com/jonshiach/Outreach/main/Zombie/Images/covid.png\" align=right width=200>\n",
    "\n",
    "Perhaps a more realistic scenario in which to apply our agent based model is the modelling the spread of the Covid virus. This model is similar to the zombie model in some respects but without the chase and evade behaviours (we will assume that those people infected with Covid will not want to purposely infect other people). \n",
    "\n",
    "The Covid virus is like many other viruses such as the common cold where the virus lives within a host. A person infected with the virus may suffer from symptoms such as breathing difficulties and fever which can in rare occasions unfortunately result in the death of the host. After a time the hosts immune system will fight off the virus and the host will recover and become immune from being reinfected by the same virus. During the time when the host is infected with the virus they can infect other people who are close by. \n",
    "\n",
    "To help prevent the spread of the Covid virus we can implement the following strategies which we can include in our model:\n",
    "\n",
    "- **Social distancing**: agents will attempt to remain more than a certain distance from other agents.\n",
    "- **Quarantining**: after a certain time infected agents will quarantine and will not be able to infect other agents.\n",
    "\n",
    "Social distancing can be modelled using the [`Separation()`](#Separation) function from the [Boids](#Separation) model and quarantining by ignoring the infection rule for that agent.\n",
    "\n",
    "We will start with assigning the majority of our agents with the status `susceptible` which means that these represent people who have not had Covid so have a possibility of contracting it along with a small number of `infected` agents. The agents are also given `timer` attribute which will be used to track the time that the agent has been infected. "
   ]
  },
  {
   "cell_type": "code",
   "execution_count": null,
   "metadata": {},
   "outputs": [],
   "source": [
    "class covid(zombie):\n",
    "    def __init__(self):\n",
    "        super().__init__()\n",
    "        self.status = \"susceptible\"\n",
    "        self.minspeed = 5\n",
    "        self.maxspeed = 5\n",
    "        self.timer = -1\n",
    "                          \n",
    "    def AgentList():\n",
    "        agents = [covid() for _ in range(nagents)]\n",
    "        for i in range(ninfected):\n",
    "            agents[i].status = \"infected\"\n",
    "            agents[i].colour = \"red\"\n",
    "            agents[i].timer = recovery_time\n",
    "        return agents\n",
    "    \n",
    "    class data(agent.data):\n",
    "        def __init__(self, agentlist):\n",
    "            super().__init__(agentlist)\n",
    "        \n",
    "        def InitialisePopulation(self, agentlist):\n",
    "            self.agenttypes = ['susceptible', 'infected', 'recovered', 'quarantined', 'deceased']\n",
    "            self.agentcolours = ['blue', 'red', 'limegreen', 'orange', 'black']\n",
    "            self.population = np.array([[nagents - ninfected, ninfected, 0, 0, 0]])"
   ]
  },
  {
   "cell_type": "markdown",
   "metadata": {},
   "source": [
    "### Infection\n",
    "\n",
    "To model an infected agent infecting a neighbouring susceptible agent we simply check whether the distance to the neighbouring agent is less than some infection radius. We then check whether some random number is less than the probability of infection and if so we say that the susceptible agent has been infected and change its agent type and set the timer to the recovery time."
   ]
  },
  {
   "cell_type": "code",
   "execution_count": null,
   "metadata": {},
   "outputs": [],
   "source": [
    "class covid(covid):\n",
    "    def Infection(self):\n",
    "        for neighbour in self.neighbours:\n",
    "            squared_distance = (self.x - neighbour.x) ** 2 + (self.y - neighbour.y) ** 2\n",
    "            if squared_distance < infect_radius ** 2 and neighbour.status == \"susceptible\":\n",
    "                if np.random.rand() < prob_infect:  \n",
    "                    neighbour.status = \"infected\"\n",
    "                    neighbour.colour = \"red\"\n",
    "                    neighbour.timer = recovery_time"
   ]
  },
  {
   "cell_type": "markdown",
   "metadata": {},
   "source": [
    "### Recovery \n",
    "\n",
    "The function `Recovery()` defined below checks whether an infected agent has recovered. We first subtract the time step from the timer so that it counts down to zero. If the timer is less than zero then the recovery time has elapsed and we change the agent type to that of recovered agent. If the model uses quarantining then we also check whether the agent was quarantined and if so it is returned to the model at a random position."
   ]
  },
  {
   "cell_type": "code",
   "execution_count": null,
   "metadata": {},
   "outputs": [],
   "source": [
    "class covid(covid):             \n",
    "    def Recovery(self):\n",
    "        self.timer -= time_step\n",
    "        if self.timer < 0:\n",
    "            if self.status == \"quarantined\":\n",
    "                self.x = width * np.random.rand()\n",
    "                self.y = height * np.random.rand()\n",
    "            self.status = \"recovered\"\n",
    "            self.colour = \"green\"\n",
    "            self.move = True"
   ]
  },
  {
   "cell_type": "markdown",
   "metadata": {},
   "source": [
    "### Quarantine\n",
    "\n",
    "The function `Quarantine()` defined below checks whether an infected agent is going into quarantine. We check whether the agent's timer is less than the quarantine time and if so we remove the agent from the model by setting its position outside of the region."
   ]
  },
  {
   "cell_type": "code",
   "execution_count": null,
   "metadata": {},
   "outputs": [],
   "source": [
    "class covid(covid):  \n",
    "    def Quarantine(self):\n",
    "        if self.timer < quarantine_time:\n",
    "            self.x = -100 + np.random.rand()\n",
    "            self.y = 1\n",
    "            self.status = \"quarantined\"\n",
    "            self.move = False"
   ]
  },
  {
   "cell_type": "markdown",
   "metadata": {},
   "source": [
    "### Mortality\n",
    "\n",
    "The function `Mortality()` defined below checks whether and infected agent will die within the time step. This is done by checking whether a random number between 0 and 1 is less than the probability that the agent will die within a single time step. If the agent has died its is removed from the model."
   ]
  },
  {
   "cell_type": "code",
   "execution_count": null,
   "metadata": {},
   "outputs": [],
   "source": [
    "class covid(covid):        \n",
    "    def Mortality(self):\n",
    "        if np.random.rand() < prob_death:\n",
    "            self.x = -100 + np.random.rand()\n",
    "            self.y = 1\n",
    "            self.status = \"deceased\"\n",
    "            self.timer = -1\n",
    "            self.move = False"
   ]
  },
  {
   "cell_type": "markdown",
   "metadata": {},
   "source": [
    "### Applying the agent rules\n",
    "\n",
    "The function `Rules()` defined below applies the `Infection()`, `Recovery()` and `Mortality` for infected or quarantined agents. If social distancing is turned on then the [`Separation()`](#Separation) rule from the [Boids](#Separation) model is used. If quarantining is turned on then the `Quarantine()` rule is applied. Finally the [`RandomPath`](#Random-path) from the [zombie](#Random-path) model is used so that the agents move in a random path and [`AvoidEdges()`](#Avoid-edges) rule is used to keep the agents within the edges."
   ]
  },
  {
   "cell_type": "code",
   "execution_count": null,
   "metadata": {},
   "outputs": [],
   "source": [
    "class covid(covid):        \n",
    "    def Rules(self):       \n",
    "        if self.status == \"infected\" or self.status == \"quarantined\":\n",
    "            self.Infection()\n",
    "            self.Recovery()\n",
    "            self.Mortality()\n",
    "        if distancing:\n",
    "            self.Separation()\n",
    "        if quarantining and self.status == \"infected\":\n",
    "            self.Quarantine()\n",
    "        self.RandomPath() \n",
    "        self.AvoidEdges()"
   ]
  },
  {
   "cell_type": "markdown",
   "metadata": {},
   "source": [
    "### Running the model\n",
    "\n",
    "The code below defines the model parameters and runs the model. Here the social distancing and quarantining have been turned off so the infection should spread quickly. Try experimenting with different parameters to see what affects this has on the model."
   ]
  },
  {
   "cell_type": "code",
   "execution_count": null,
   "metadata": {},
   "outputs": [],
   "source": [
    "# Model parameters\n",
    "nagents = 100              # number of agents\n",
    "ninfected = 1              # initial number of infected agents\n",
    "max_time = 40              # max time for the simulation\n",
    "infect_radius = 2          # radius which determines whether infection is passed on\n",
    "detection_radius = 3       # radius for detecting neighbouring agents\n",
    "separation_radius = 3      # radius for avoiding nearby agents\n",
    "recovery_time = 10         # time taken to recover after infection\n",
    "quarantine_time = 5        # time spent in quarantine\n",
    "separation_factor = 2      # separation steering factor\n",
    "prob_infect = 0.1          # probability of infection for each time step \n",
    "prob_death = 0.0001        # probability of dying in a single time step     \n",
    "distancing = False         # invoke social distancing (True or False)\n",
    "quarantining = False       # invoke quarantining (True of False)\n",
    "\n",
    "# Run simulation\n",
    "solution = Simulation(covid)\n",
    "\n",
    "# Generate animation\n",
    "anim = solution.Animation()\n",
    "plt.close()\n",
    "HTML(anim.to_jshtml(fps=20))"
   ]
  },
  {
   "cell_type": "markdown",
   "metadata": {},
   "source": [
    "### Social distancing\n",
    "\n",
    "To see the affect that social distancing has on the spread of the infection the code below runs the simulation with and without social distancing and produces the population plots. "
   ]
  },
  {
   "cell_type": "code",
   "execution_count": null,
   "metadata": {},
   "outputs": [],
   "source": [
    "# Run simulation without social distancing\n",
    "max_time = 40\n",
    "distancing = False\n",
    "quarantining = False\n",
    "solution = Simulation(covid)\n",
    "solution.PlotPopulation(\"Without social distancing\")\n",
    "\n",
    "# Run simulation with social distancing\n",
    "distancing = True\n",
    "quarantining = False\n",
    "solution = Simulation(covid)\n",
    "solution.PlotPopulation(\"With social distancing\")"
   ]
  },
  {
   "cell_type": "markdown",
   "metadata": {},
   "source": [
    "To see the affects that quarantining has we can produce plots for the model with and without quarantining. What conclusions can you draw from these plots?"
   ]
  },
  {
   "cell_type": "code",
   "execution_count": null,
   "metadata": {},
   "outputs": [],
   "source": [
    "# Run simulation without social distancing and with quarantining\n",
    "distancing = False\n",
    "quarantining = True\n",
    "solution = Simulation(covid)\n",
    "solution.PlotPopulation(\"Without social distancing and with quaranting\")\n",
    "\n",
    "# Run simulation with social distancing and quarantining\n",
    "distancing = True\n",
    "quarantining = True\n",
    "solution = Simulation(covid)\n",
    "solution.PlotPopulation(\"With social distancing and quaranting\")"
   ]
  },
  {
   "cell_type": "markdown",
   "metadata": {},
   "source": [
    "### Extending the model\n",
    "\n",
    "The Covid model we have here is quite simplistic and makes the following assumptions about the population.\n",
    "\n",
    "- Each agent has an equal chance of being infected if in close proximity to an infected agent.\n",
    "- Each agent has an equal change of dieing from the infection.\n",
    "- All agents are obedient and will try to avoid other agents when social distancing is turned on.\n",
    "- All agents will quarantine themselves if they know they are infected.\n",
    "- Agents are evenly spread and do not cluster around certain areas (e.g., shops, schools etc.).\n",
    "\n",
    "We could extend our model to take in these additional consideration into account. This is what makes mathematical modelling so useful.\n",
    "\n",
    "---\n",
    "## Useful Links\n",
    "\n",
    "If you would like to further explore Python and fractals you may find the following links useful:\n",
    "\n",
    "- [Anaconda](https://www.anaconda.com/products/distribution) - a suite of software tools that includes Jupyter Notebook and Python. Download and install on your computer to write and run Jupyter notebooks\n",
    "- [Google Colab](https://colab.research.google.com/) - run Jupyter notebooks in the cloud using Google Colab (you will need to have a Google account to do this)\n",
    "- [3Blue1Brown: Simulating an epidemic](https://www.youtube.com/watch?v=gxAaO2rsdIs) - a video by YouTube creator Grant Sanderson explaining the use of an agent based model to simulate an epidemic.\n",
    "- [Agent based modelling](https://en.wikipedia.org/wiki/Agent-based_model)\n",
    "- [Boids model](https://en.wikipedia.org/wiki/Boids)\n",
    "\n",
    "&copy; Dr Jon Shiach 2022"
   ]
  }
 ],
 "metadata": {
  "interpreter": {
   "hash": "3a8893f41ea6eea20a2f9e20d8f8fd0ea69174c942b987ace920455cbb0cf5de"
  },
  "kernelspec": {
   "display_name": "Python 3 (ipykernel)",
   "language": "python",
   "name": "python3"
  },
  "language_info": {
   "codemirror_mode": {
    "name": "ipython",
    "version": 3
   },
   "file_extension": ".py",
   "mimetype": "text/x-python",
   "name": "python",
   "nbconvert_exporter": "python",
   "pygments_lexer": "ipython3",
   "version": "3.9.7"
  }
 },
 "nbformat": 4,
 "nbformat_minor": 4
}
